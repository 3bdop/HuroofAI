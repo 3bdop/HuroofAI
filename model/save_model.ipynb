{
 "cells": [
  {
   "cell_type": "code",
   "execution_count": 4,
   "metadata": {},
   "outputs": [],
   "source": [
    "import os\n",
    "import warnings\n",
    "\n",
    "from transformers import AutoModelForCTC, AutoProcessor\n",
    "\n",
    "warnings.filterwarnings(\"ignore\")"
   ]
  },
  {
   "cell_type": "code",
   "execution_count": 5,
   "metadata": {},
   "outputs": [],
   "source": [
    "MODEL_HUB_PATH = \"mohammed/arabic-speech-recognition\"\n",
    "processor = AutoProcessor.from_pretrained(MODEL_HUB_PATH)\n",
    "model = AutoModelForCTC.from_pretrained(MODEL_HUB_PATH)\n",
    "\n",
    "model.gradient_checkpointing_enable()"
   ]
  },
  {
   "cell_type": "code",
   "execution_count": 6,
   "metadata": {},
   "outputs": [
    {
     "name": "stdout",
     "output_type": "stream",
     "text": [
      "model saved successfully to /home/mghali/.dotfiles/personal/personal/dev/MOEHE-/model/pretrained\n"
     ]
    }
   ],
   "source": [
    "MODEL_OUT_PATH = os.path.abspath(\"./pretrained\")\n",
    "\n",
    "\n",
    "def save_model(model, processor, model_dir: str) -> None:\n",
    "    \"\"\"Save the model and processor to the specified directory.\"\"\"\n",
    "    try:\n",
    "        model.save_pretrained(model_dir)\n",
    "        processor.save_pretrained(model_dir)\n",
    "        print(f\"model saved successfully to {model_dir}\")\n",
    "    except Exception as e:\n",
    "        print(f\"Error saving the model: {e}\")\n",
    "\n",
    "\n",
    "save_model(model, processor, MODEL_OUT_PATH)"
   ]
  }
 ],
 "metadata": {
  "kernelspec": {
   "display_name": ".venv",
   "language": "python",
   "name": "python3"
  },
  "language_info": {
   "codemirror_mode": {
    "name": "ipython",
    "version": 3
   },
   "file_extension": ".py",
   "mimetype": "text/x-python",
   "name": "python",
   "nbconvert_exporter": "python",
   "pygments_lexer": "ipython3",
   "version": "3.12.4"
  }
 },
 "nbformat": 4,
 "nbformat_minor": 2
}
