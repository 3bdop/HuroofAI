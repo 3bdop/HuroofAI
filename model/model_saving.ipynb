{
 "cells": [
  {
   "cell_type": "code",
   "execution_count": null,
   "metadata": {},
   "outputs": [],
   "source": [
    "from transformers import AutoModelForCTC, AutoProcessor"
   ]
  },
  {
   "cell_type": "code",
   "execution_count": 4,
   "metadata": {},
   "outputs": [
    {
     "name": "stderr",
     "output_type": "stream",
     "text": [
      "/home/mghali/.dotfiles/personal/personal/dev/MOEHE-/.env/lib/python3.12/site-packages/transformers/configuration_utils.py:312: UserWarning: Passing `gradient_checkpointing` to a config initialization is deprecated and will be removed in v5 Transformers. Using `model.gradient_checkpointing_enable()` instead, or if you are using the `Trainer` API, pass `gradient_checkpointing=True` in your `TrainingArguments`.\n",
      "  warnings.warn(\n"
     ]
    }
   ],
   "source": [
    "MODEL_HUB_PATH = \"mohammed/arabic-speech-recognition\"\n",
    "processor = AutoProcessor.from_pretrained(MODEL_HUB_PATH)\n",
    "model = AutoModelForCTC.from_pretrained(MODEL_HUB_PATH)"
   ]
  },
  {
   "cell_type": "code",
   "execution_count": null,
   "metadata": {},
   "outputs": [
    {
     "name": "stdout",
     "output_type": "stream",
     "text": [
      "Model and processor saved successfully to ./pretrained\n"
     ]
    }
   ],
   "source": [
    "# Function to save the model and processor\n",
    "def save_model(model, processor, model_dir):\n",
    "    try:\n",
    "        # Save the model\n",
    "        model.save_pretrained(model_dir)\n",
    "        # Save the processor\n",
    "        processor.save_pretrained(model_dir)\n",
    "        print(f\"model saved successfully to {model_dir}\")\n",
    "    except Exception as e:\n",
    "        print(f\"Error saving the model: {e}\")\n",
    "\n",
    "\n",
    "# Example usage\n",
    "save_model(model, processor, \"./pretrained\")"
   ]
  }
 ],
 "metadata": {
  "kernelspec": {
   "display_name": ".env",
   "language": "python",
   "name": "python3"
  },
  "language_info": {
   "codemirror_mode": {
    "name": "ipython",
    "version": 3
   },
   "file_extension": ".py",
   "mimetype": "text/x-python",
   "name": "python",
   "nbconvert_exporter": "python",
   "pygments_lexer": "ipython3",
   "version": "3.12.3"
  }
 },
 "nbformat": 4,
 "nbformat_minor": 2
}
