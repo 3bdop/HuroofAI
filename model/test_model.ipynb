{
 "cells": [
  {
   "cell_type": "markdown",
   "metadata": {},
   "source": [
    "# Testing Model\n",
    "\n",
    "> **Note**: Please save the model first before proceeding with this notebook. [Run this notebook](./model_saving.ipynb)"
   ]
  },
  {
   "cell_type": "code",
   "execution_count": 33,
   "metadata": {},
   "outputs": [],
   "source": [
    "import os\n",
    "import warnings\n",
    "from typing import Iterable, Literal\n",
    "\n",
    "import librosa\n",
    "import matplotlib.pyplot as plt\n",
    "import numpy as np\n",
    "import torch\n",
    "from pydub import AudioSegment\n",
    "from transformers import AutoModelForCTC, AutoProcessor\n",
    "\n",
    "warnings.simplefilter(\"ignore\")"
   ]
  },
  {
   "cell_type": "markdown",
   "metadata": {},
   "source": [
    "## Loading model"
   ]
  },
  {
   "cell_type": "code",
   "execution_count": 34,
   "metadata": {},
   "outputs": [],
   "source": [
    "MODEL_PATH = \"./pretrained\"\n",
    "\n",
    "\n",
    "def get_model_and_processor() -> tuple:\n",
    "    \"\"\"\n",
    "    Loads model and processor from local directory\n",
    "    Returns tuple of (model, processor)\n",
    "    \"\"\"\n",
    "    if not os.path.exists(MODEL_PATH):\n",
    "        raise FileNotFoundError(f\"Model directory not found at {MODEL_PATH}\")\n",
    "\n",
    "    global model, processor\n",
    "    if \"processor\" not in globals():\n",
    "        processor = AutoProcessor.from_pretrained(\n",
    "            MODEL_PATH,\n",
    "            local_files_only=True,  # ensures no attempts to download from hub\n",
    "        )\n",
    "    if \"model\" not in globals():\n",
    "        model = AutoModelForCTC.from_pretrained(\n",
    "            MODEL_PATH, local_files_only=True\n",
    "        )\n",
    "    return model, processor"
   ]
  },
  {
   "cell_type": "markdown",
   "metadata": {},
   "source": [
    "## Defining Teacher & Student audios path"
   ]
  },
  {
   "cell_type": "code",
   "execution_count": 35,
   "metadata": {},
   "outputs": [],
   "source": [
    "inpath: str = os.path.abspath(\"../assets/audio\")\n",
    "outpath: str = os.path.abspath(\"../uploads\")\n",
    "\n",
    "samples_in: tuple[str, ...] = tuple(\n",
    "    os.path.join(inpath, file) for file in os.listdir(inpath)\n",
    ")\n",
    "samples_out: tuple[str, ...] = tuple(\n",
    "    os.path.join(outpath, file)\n",
    "    for file in os.listdir(outpath)\n",
    "    if not file.startswith(\".\")\n",
    ")"
   ]
  },
  {
   "cell_type": "markdown",
   "metadata": {},
   "source": [
    "## ~~Function to load audio using `pydub` library~~\n",
    "> **Note**: Switched to `librosa` library, while filtering the m4a warnings. [See this](#comparing-pydub-and-librosa-accuracy)"
   ]
  },
  {
   "cell_type": "code",
   "execution_count": 36,
   "metadata": {},
   "outputs": [],
   "source": [
    "# def load_audio(audio_file: str, target_sr: int = 16000) -> np.ndarray:\n",
    "#     \"\"\"\n",
    "#     Load audio file using pydub and convert to the format needed by the model.\n",
    "\n",
    "#     Args:\n",
    "#         audio_file: Path to the audio file\n",
    "#         target_sr: Target sample rate in Hz\n",
    "\n",
    "#     Returns:\n",
    "#         numpy array of audio samples normalized to [-1, 1]\n",
    "#     \"\"\"\n",
    "#     audio = AudioSegment.from_file(audio_file)\n",
    "\n",
    "#     # convert to mono and set sample rate\n",
    "#     audio = audio.set_frame_rate(target_sr).set_channels(1)\n",
    "\n",
    "#     # convert to numpy array and normalize\n",
    "#     samples = np.array(audio.get_array_of_samples(), dtype=np.float32)\n",
    "#     samples = samples / 32768.0  # normalize to [-1, 1]\n",
    "\n",
    "#     return samples"
   ]
  },
  {
   "cell_type": "code",
   "execution_count": 37,
   "metadata": {},
   "outputs": [],
   "source": [
    "model, processor = get_model_and_processor()"
   ]
  },
  {
   "cell_type": "code",
   "execution_count": 38,
   "metadata": {},
   "outputs": [],
   "source": [
    "if \"_cache\" not in globals():\n",
    "    _cache = {}\n",
    "\n",
    "\n",
    "def transcribe_audio(model, processor, *, audio_file) -> str:\n",
    "    \"\"\"Function to transcribe audio and return the letter said\"\"\"\n",
    "    if audio_file in _cache:\n",
    "        return _cache[audio_file]\n",
    "\n",
    "    if not os.path.exists(audio_file):\n",
    "        raise FileNotFoundError(f\"Audio file {audio_file} not found.\")\n",
    "\n",
    "    speech, _ = librosa.load(audio_file, sr=16000)\n",
    "    # Use pydub instead of librosa\n",
    "    # speech = load_audio(audio_file, target_sr=16000)\n",
    "\n",
    "    input_values = processor(\n",
    "        speech, return_tensors=\"pt\", sampling_rate=16000\n",
    "    ).input_values\n",
    "\n",
    "    with torch.no_grad():\n",
    "        logits = model(input_values).logits\n",
    "\n",
    "    predicted_ids = torch.argmax(logits, dim=-1)\n",
    "    transcription = processor.batch_decode(predicted_ids)[0]\n",
    "\n",
    "    letter = transcription.strip()\n",
    "    if not letter:\n",
    "        raise Exception(\"Failed to transcribe the audio.\")\n",
    "\n",
    "    _cache[audio_file] = letter\n",
    "\n",
    "    return letter\n",
    "\n",
    "\n",
    "def transcribe_audios(\n",
    "    model,\n",
    "    processor,\n",
    "    *,\n",
    "    audio_files: str | Iterable[str] | None = None,\n",
    "    with_filepath: bool = False,\n",
    "    with_filename: bool = False,\n",
    "    sample: Literal[\"in\", \"out\"] | None = None,\n",
    ") -> list[str | tuple[str, ...]]:\n",
    "\n",
    "    if with_filename and with_filepath:\n",
    "        raise ValueError(\n",
    "            \"Parameter `filepath` cannot be set to `True` while `filename` is \"\n",
    "            \"set to `True` choose either.\"\n",
    "        )\n",
    "\n",
    "    if audio_files and sample:\n",
    "        raise ValueError(\"You can only use `audio_files` or `sample` not both\")\n",
    "\n",
    "    def parse_sample(s: str | None) -> tuple[str, ...] | None:\n",
    "        if not s:\n",
    "            return None\n",
    "\n",
    "        dc: dict[str, tuple[str, ...]] = {\"in\": samples_in, \"out\": samples_out}\n",
    "        return dc[s]\n",
    "\n",
    "    def parse_fname(s: str) -> str:\n",
    "        if with_filename:\n",
    "            return os.path.basename(s)\n",
    "        return s\n",
    "\n",
    "    def parse_tup(f: str, s: str) -> str | tuple[str, ...]:\n",
    "        if with_filepath or with_filename:\n",
    "            return (parse_fname(f), s)\n",
    "\n",
    "        return s\n",
    "\n",
    "    files = audio_files or parse_sample(sample)\n",
    "    assert files, \"Parameter `audio_files` or `sample` must be properly set\"\n",
    "\n",
    "    if isinstance(files, str):\n",
    "        files = [files]\n",
    "\n",
    "    def parse_all(f: str, s: str) -> str | tuple[str, ...]:\n",
    "        return parse_tup(f, s)\n",
    "\n",
    "    return [\n",
    "        parse_all(f, transcribe_audio(model, processor, audio_file=f))\n",
    "        for f in files\n",
    "    ]"
   ]
  },
  {
   "cell_type": "markdown",
   "metadata": {},
   "source": [
    "## Example usage of `transcribe_audios` *function*."
   ]
  },
  {
   "cell_type": "code",
   "execution_count": 39,
   "metadata": {},
   "outputs": [
    {
     "name": "stdout",
     "output_type": "stream",
     "text": [
      "[('shiin.mp3', 'بسين'), ('siin.mp3', 'سيين'), ('ra.mp3', 'أروء'), ('kaf.mp3', 'ك')]\n",
      "[('raOut.m4a', 'راة'), ('kafOut.m4a', 'كا'), ('siinOut.m4a', 'سي'), ('shiinOut.m4a', 'سويض')]\n"
     ]
    }
   ],
   "source": [
    "# ============================================================================== #\n",
    "# Using a sample                                                                 #\n",
    "# output full file path + model prediction                                       #\n",
    "# ============================================================================== #\n",
    "# print(transcribe_audios(model, processor, sample=\"in\", with_filepath=True))\n",
    "# print(transcribe_audios(model, processor, sample=\"out\", with_filepath=True))\n",
    "\n",
    "# ============================================================================== #\n",
    "# output file name only + model prediction                                       #\n",
    "# ============================================================================== #\n",
    "print(transcribe_audios(model, processor, sample=\"in\", with_filename=True))\n",
    "print(transcribe_audios(model, processor, sample=\"out\", with_filename=True))\n",
    "\n",
    "# ============================================================================== #\n",
    "# pass a tuple of filepaths                                                      #\n",
    "# ============================================================================== #\n",
    "# print(transcribe_audios(model, processor, audio_files=samples_in, with_filename=True))\n",
    "# print(transcribe_audios(model, processor, audio_files=samples_out, with_filename=True))\n",
    "\n",
    "\n",
    "# ============================================================================== #\n",
    "# pass one file path only                                                        #\n",
    "# ============================================================================== #\n",
    "# print(transcribe_audios(model, processor, audio_files=samples_in[0], with_filename=True))\n",
    "# print(transcribe_audios(model, processor, audio_files=samples_out[0], with_filename=True))"
   ]
  },
  {
   "cell_type": "markdown",
   "metadata": {},
   "source": [
    "## Comparing `pydub` and `librosa` accuracy"
   ]
  },
  {
   "cell_type": "code",
   "execution_count": 40,
   "metadata": {},
   "outputs": [
    {
     "name": "stdout",
     "output_type": "stream",
     "text": [
      "=== Audio Statistics ===\n",
      "Librosa shape: (27493,)\n",
      "Pydub shape: (27493,)\n",
      "Librosa range: [-0.338, 0.351]\n",
      "Pydub range: [-0.337, 0.353]\n",
      "\n",
      "=== Model Predictions ===\n",
      "\n",
      "Librosa Input Values:\n",
      "Shape: torch.Size([1, 27493])\n",
      "Range: [-5.356, 5.569]\n",
      "Prediction: سي\n",
      "\n",
      "Pydub Input Values:\n",
      "Shape: torch.Size([1, 27493])\n",
      "Range: [-5.333, 5.587]\n",
      "Prediction: صي\n"
     ]
    },
    {
     "data": {
      "image/png": "[encoded data removed]",
      "text/plain": [
       "<Figure size 1200x400 with 2 Axes>"
      ]
     },
     "metadata": {},
     "output_type": "display_data"
    }
   ],
   "source": [
    "def debug_audio_pipeline(audio_path: str):\n",
    "    \"\"\"Compare librosa vs pydub processing with detailed debug info\"\"\"\n",
    "\n",
    "    # load with librosa\n",
    "    lib_audio, _ = librosa.load(audio_path, sr=16000, mono=True)\n",
    "\n",
    "    # load with pydub\n",
    "    audio = AudioSegment.from_file(audio_path)\n",
    "    audio = audio.set_frame_rate(16000).set_channels(1)\n",
    "    pydub_audio = (\n",
    "        np.array(audio.get_array_of_samples(), dtype=np.float32) / 32768.0\n",
    "    )\n",
    "\n",
    "    # debug statistics\n",
    "    print(\"=== Audio Statistics ===\")\n",
    "    print(f\"Librosa shape: {lib_audio.shape}\")\n",
    "    print(f\"Pydub shape: {pydub_audio.shape}\")\n",
    "    print(f\"Librosa range: [{lib_audio.min():.3f}, {lib_audio.max():.3f}]\")\n",
    "    print(f\"Pydub range: [{pydub_audio.min():.3f}, {pydub_audio.max():.3f}]\")\n",
    "\n",
    "    # process both through model\n",
    "    print(\"\\n=== Model Predictions ===\")\n",
    "    for name, audio_data in [(\"Librosa\", lib_audio), (\"Pydub\", pydub_audio)]:\n",
    "        input_values = processor(\n",
    "            audio_data, return_tensors=\"pt\", sampling_rate=16000, padding=True\n",
    "        ).input_values\n",
    "\n",
    "        print(f\"\\n{name} Input Values:\")\n",
    "        print(f\"Shape: {input_values.shape}\")\n",
    "        print(f\"Range: [{input_values.min():.3f}, {input_values.max():.3f}]\")\n",
    "\n",
    "        with torch.no_grad():\n",
    "            logits = model(input_values).logits\n",
    "            predicted_ids = torch.argmax(logits, dim=-1)\n",
    "            transcription = processor.batch_decode(predicted_ids)[0]\n",
    "\n",
    "        print(f\"Prediction: {transcription}\")\n",
    "\n",
    "    # Plot waveforms\n",
    "    plt.figure(figsize=(12, 4))\n",
    "    plt.subplot(121)\n",
    "    plt.plot(lib_audio)\n",
    "    plt.title(\"Librosa\")\n",
    "    plt.subplot(122)\n",
    "    plt.plot(pydub_audio)\n",
    "    plt.title(\"Pydub\")\n",
    "    plt.show()\n",
    "\n",
    "\n",
    "audio_path = samples_out[2]\n",
    "debug_audio_pipeline(audio_path)"
   ]
  },
  {
   "cell_type": "code",
   "execution_count": null,
   "metadata": {},
   "outputs": [],
   "source": []
  }
 ],
 "metadata": {
  "kernelspec": {
   "display_name": ".venv",
   "language": "python",
   "name": "python3"
  },
  "language_info": {
   "codemirror_mode": {
    "name": "ipython",
    "version": 3
   },
   "file_extension": ".py",
   "mimetype": "text/x-python",
   "name": "python",
   "nbconvert_exporter": "python",
   "pygments_lexer": "ipython3",
   "version": "3.12.4"
  }
 },
 "nbformat": 4,
 "nbformat_minor": 2
}
