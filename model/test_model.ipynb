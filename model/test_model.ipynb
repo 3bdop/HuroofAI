{
 "cells": [
  {
   "cell_type": "code",
   "execution_count": 2,
   "metadata": {},
   "outputs": [
    {
     "name": "stderr",
     "output_type": "stream",
     "text": [
      "c:\\Users\\Abood\\Desktop\\moehe-app\\.env\\lib\\site-packages\\tqdm\\auto.py:21: TqdmWarning: IProgress not found. Please update jupyter and ipywidgets. See https://ipywidgets.readthedocs.io/en/stable/user_install.html\n",
      "  from .autonotebook import tqdm as notebook_tqdm\n",
      "c:\\Users\\Abood\\Desktop\\moehe-app\\.env\\lib\\site-packages\\transformers\\configuration_utils.py:312: UserWarning: Passing `gradient_checkpointing` to a config initialization is deprecated and will be removed in v5 Transformers. Using `model.gradient_checkpointing_enable()` instead, or if you are using the `Trainer` API, pass `gradient_checkpointing=True` in your `TrainingArguments`.\n",
      "  warnings.warn(\n"
     ]
    }
   ],
   "source": [
    "from transformers import AutoProcessor, AutoModelForCTC\n",
    "\n",
    "# Load the model and processor\n",
    "# if \"processor\" not in globals\n",
    "processor = AutoProcessor.from_pretrained(\"mohammed/arabic-speech-recognition\")\n",
    "model = AutoModelForCTC.from_pretrained(\"mohammed/arabic-speech-recognition\")"
   ]
  },
  {
   "cell_type": "code",
   "execution_count": 3,
   "metadata": {},
   "outputs": [],
   "source": [
    "from pydub import AudioSegment\n",
    "import os\n",
    "\n",
    "# Set FFmpeg path to the virtual environment's ffmpeg folder\n",
    "ffmpeg_path = os.path.join(os.environ['VIRTUAL_ENV'], \"ffmpeg\", \"ffmpeg.exe\")\n",
    "AudioSegment.converter = ffmpeg_path\n",
    "\n",
    "ffprobe_path = os.path.join(os.environ['VIRTUAL_ENV'], \"ffmpeg\", \"ffprobe.exe\")\n",
    "AudioSegment.ffprobe = ffprobe_path\n"
   ]
  },
  {
   "cell_type": "code",
   "execution_count": null,
   "metadata": {},
   "outputs": [
    {
     "name": "stdout",
     "output_type": "stream",
     "text": [
      "The letter teacher said in the audio is: أروء\n",
      "The letter student said in the audio is: راب\n"
     ]
    }
   ],
   "source": [
    "import os\n",
    "import torch\n",
    "import librosa\n",
    "# from pydub import AudioSegment\n",
    "\n",
    "# Function to convert .m4a to .mp3\n",
    "def convert_m4a_to_mp3(m4a_file, mp3_file):\n",
    "    try:\n",
    "        if not os.path.exists(m4a_file):\n",
    "            raise FileNotFoundError(f\"File {m4a_file} does not exist.\")\n",
    "        audio = AudioSegment.from_file(m4a_file, format=\"m4a\")\n",
    "        audio.export(mp3_file, format=\"mp3\")\n",
    "        print(f\"Converted {m4a_file} to {mp3_file}\")\n",
    "    except Exception as e:\n",
    "        print(f\"Error converting {m4a_file} to mp3: {e}\")\n",
    "\n",
    "# Function to transcribe audio and return the letter said\n",
    "def transcribe_audio(audio_file):\n",
    "    try:\n",
    "        # Convert .m4a to .mp3 if necessary\n",
    "        if audio_file.endswith('.m4a'):\n",
    "            mp3_file = audio_file.replace('.m4a', '.mp3')\n",
    "            convert_m4a_to_mp3(audio_file, mp3_file)\n",
    "            audio_file = mp3_file\n",
    "\n",
    "        # Ensure the audio file exists\n",
    "        if not os.path.exists(audio_file):\n",
    "            raise FileNotFoundError(f\"Audio file {audio_file} not found.\")\n",
    "\n",
    "        # Load the audio file\n",
    "        speech, _ = librosa.load(audio_file, sr=16000)\n",
    "\n",
    "        # Process the audio file\n",
    "        input_values = processor(speech, return_tensors=\"pt\", sampling_rate=16000).input_values\n",
    "\n",
    "        # Perform inference\n",
    "        with torch.no_grad():\n",
    "            logits = model(input_values).logits\n",
    "\n",
    "        # Decode the predicted ids to text\n",
    "        predicted_ids = torch.argmax(logits, dim=-1)\n",
    "        transcription = processor.batch_decode(predicted_ids)[0]\n",
    "\n",
    "        # Extract the letter from the transcription\n",
    "        letter = transcription.strip()\n",
    "\n",
    "        return letter\n",
    "    except Exception as e:\n",
    "        print(f\"Error transcribing audio: {e}\")\n",
    "        return None\n",
    "\n",
    "# Example usage\n",
    "audio_file = \"../uploads/shiinOut.mp3\"\n",
    "audio_file2 = \"../assets/audio/shiin.mp3\"\n",
    "if not os.path.exists(audio_file):\n",
    "    print(f\"Error: File {audio_file} does not exist. Please check the file path.\")\n",
    "else:\n",
    "    letter = transcribe_audio(audio_file)\n",
    "    letter2 = transcribe_audio(audio_file2)\n",
    "    if letter:\n",
    "        print(f\"The letter teacher said in the audio is: {letter2}\")\n",
    "        print(f\"The letter student said in the audio is: {letter}\")\n",
    "    else:\n",
    "        print(\"Failed to transcribe the audio.\")\n"
   ]
  },
  {
   "cell_type": "code",
   "execution_count": null,
   "metadata": {},
   "outputs": [],
   "source": []
  }
 ],
 "metadata": {
  "kernelspec": {
   "display_name": ".env",
   "language": "python",
   "name": "python3"
  },
  "language_info": {
   "codemirror_mode": {
    "name": "ipython",
    "version": 3
   },
   "file_extension": ".py",
   "mimetype": "text/x-python",
   "name": "python",
   "nbconvert_exporter": "python",
   "pygments_lexer": "ipython3",
   "version": "3.9.1"
  }
 },
 "nbformat": 4,
 "nbformat_minor": 2
}
